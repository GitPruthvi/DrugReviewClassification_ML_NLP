{
 "cells": [
  {
   "cell_type": "code",
   "execution_count": 1,
   "metadata": {},
   "outputs": [],
   "source": [
    "import pandas as pd \n",
    "import numpy as np \n",
    "import string\n",
    "import re\n",
    "import nltk\n",
    "import random\n",
    "import xgboost as xgb\n",
    "from pandas import DataFrame\n",
    "\n",
    "from xgboost import XGBClassifier\n",
    "from xgboost import plot_importance\n",
    "from sklearn.model_selection import train_test_split\n",
    "from sklearn.feature_extraction.text import CountVectorizer\n",
    "from sklearn.feature_extraction.text import TfidfVectorizer\n",
    "from sklearn.pipeline import Pipeline\n",
    "from sklearn.feature_extraction.text import TfidfVectorizer\n",
    "from sklearn.naive_bayes import MultinomialNB\n",
    "from sklearn.model_selection import train_test_split\n",
    "from sklearn.tree import DecisionTreeClassifier\n",
    "from sklearn.ensemble import AdaBoostClassifier\n",
    "from sklearn.model_selection import GridSearchCV\n",
    "from sklearn.ensemble import GradientBoostingClassifier\n",
    "from sklearn.ensemble import VotingClassifier\n",
    "from sklearn import model_selection\n",
    "from sklearn.model_selection import cross_val_score, cross_val_predict\n",
    "from sklearn import metrics\n"
   ]
  },
  {
   "cell_type": "code",
   "execution_count": 2,
   "metadata": {},
   "outputs": [],
   "source": [
    "import os\n",
    "os.chdir(r\"\") \n",
    "\n",
    "rawData = pd.read_csv('webmd.csv')\n",
    "\n",
    "pd.set_option('display.max_colwidth', -1)"
   ]
  },
  {
   "cell_type": "code",
   "execution_count": 3,
   "metadata": {},
   "outputs": [
    {
     "data": {
      "text/html": [
       "<div>\n",
       "<style scoped>\n",
       "    .dataframe tbody tr th:only-of-type {\n",
       "        vertical-align: middle;\n",
       "    }\n",
       "\n",
       "    .dataframe tbody tr th {\n",
       "        vertical-align: top;\n",
       "    }\n",
       "\n",
       "    .dataframe thead th {\n",
       "        text-align: right;\n",
       "    }\n",
       "</style>\n",
       "<table border=\"1\" class=\"dataframe\">\n",
       "  <thead>\n",
       "    <tr style=\"text-align: right;\">\n",
       "      <th></th>\n",
       "      <th>Age</th>\n",
       "      <th>Condition</th>\n",
       "      <th>Date</th>\n",
       "      <th>Drug</th>\n",
       "      <th>DrugId</th>\n",
       "      <th>EaseofUse</th>\n",
       "      <th>Effectiveness</th>\n",
       "      <th>Reviews</th>\n",
       "      <th>Satisfaction</th>\n",
       "      <th>Sex</th>\n",
       "      <th>Sides</th>\n",
       "      <th>UsefulCount</th>\n",
       "    </tr>\n",
       "  </thead>\n",
       "  <tbody>\n",
       "    <tr>\n",
       "      <td>0</td>\n",
       "      <td>75 or over</td>\n",
       "      <td>Stuffy Nose</td>\n",
       "      <td>9/21/2014</td>\n",
       "      <td>25dph-7.5peh</td>\n",
       "      <td>146724</td>\n",
       "      <td>5</td>\n",
       "      <td>5</td>\n",
       "      <td>I'm a retired physician and of all the meds I have tried for my allergies (seasonal and not) - this one is the most effective for me.  When I first began using this drug some years ago - tiredness as a problem but is not currently.</td>\n",
       "      <td>5</td>\n",
       "      <td>Male</td>\n",
       "      <td>Drowsiness,  dizziness ,  dry mouth /nose/throat,  headache ,  upset stomach ,  constipation , or  trouble sleeping  may occur.</td>\n",
       "      <td>0</td>\n",
       "    </tr>\n",
       "    <tr>\n",
       "      <td>1</td>\n",
       "      <td>25-34</td>\n",
       "      <td>Cold Symptoms</td>\n",
       "      <td>1/13/2011</td>\n",
       "      <td>25dph-7.5peh</td>\n",
       "      <td>146724</td>\n",
       "      <td>5</td>\n",
       "      <td>5</td>\n",
       "      <td>cleared me right up even with my throat hurting it went away after taking the medicine</td>\n",
       "      <td>5</td>\n",
       "      <td>Female</td>\n",
       "      <td>Drowsiness,  dizziness ,  dry mouth /nose/throat,  headache ,  upset stomach ,  constipation , or  trouble sleeping  may occur.</td>\n",
       "      <td>1</td>\n",
       "    </tr>\n",
       "    <tr>\n",
       "      <td>2</td>\n",
       "      <td>65-74</td>\n",
       "      <td>Other</td>\n",
       "      <td>7/16/2012</td>\n",
       "      <td>warfarin (bulk) 100 % powder</td>\n",
       "      <td>144731</td>\n",
       "      <td>2</td>\n",
       "      <td>3</td>\n",
       "      <td>why did my PTINR go from a normal of 2.5 to over \\n100?</td>\n",
       "      <td>3</td>\n",
       "      <td>Female</td>\n",
       "      <td></td>\n",
       "      <td>0</td>\n",
       "    </tr>\n",
       "    <tr>\n",
       "      <td>3</td>\n",
       "      <td>75 or over</td>\n",
       "      <td>Other</td>\n",
       "      <td>9/23/2010</td>\n",
       "      <td>warfarin (bulk) 100 % powder</td>\n",
       "      <td>144731</td>\n",
       "      <td>2</td>\n",
       "      <td>2</td>\n",
       "      <td>FALLING AND DON'T REALISE IT</td>\n",
       "      <td>1</td>\n",
       "      <td>Female</td>\n",
       "      <td></td>\n",
       "      <td>0</td>\n",
       "    </tr>\n",
       "    <tr>\n",
       "      <td>4</td>\n",
       "      <td>35-44</td>\n",
       "      <td>Other</td>\n",
       "      <td>1/6/2009</td>\n",
       "      <td>warfarin (bulk) 100 % powder</td>\n",
       "      <td>144731</td>\n",
       "      <td>1</td>\n",
       "      <td>1</td>\n",
       "      <td>My grandfather was prescribed this medication (Coumadin) to assist in blood thinning due to a heart and thyroid condition.  His primary doctor was aware that he was on an aspirin regiment and still prescribed this medicine, it caused his blood to thin out to much and he ended up internally bleeding to death.  If you are going to take this medicine please ask your doctors about possible side effects or drug interactions.</td>\n",
       "      <td>1</td>\n",
       "      <td>Male</td>\n",
       "      <td></td>\n",
       "      <td>1</td>\n",
       "    </tr>\n",
       "  </tbody>\n",
       "</table>\n",
       "</div>"
      ],
      "text/plain": [
       "          Age      Condition       Date                          Drug  DrugId  \\\n",
       "0  75 or over  Stuffy Nose    9/21/2014  25dph-7.5peh                  146724   \n",
       "1  25-34       Cold Symptoms  1/13/2011  25dph-7.5peh                  146724   \n",
       "2  65-74       Other          7/16/2012  warfarin (bulk) 100 % powder  144731   \n",
       "3  75 or over  Other          9/23/2010  warfarin (bulk) 100 % powder  144731   \n",
       "4  35-44       Other          1/6/2009   warfarin (bulk) 100 % powder  144731   \n",
       "\n",
       "   EaseofUse  Effectiveness  \\\n",
       "0  5          5               \n",
       "1  5          5               \n",
       "2  2          3               \n",
       "3  2          2               \n",
       "4  1          1               \n",
       "\n",
       "                                                                                                                                                                                                                                                                                                                                                                                                                                   Reviews  \\\n",
       "0  I'm a retired physician and of all the meds I have tried for my allergies (seasonal and not) - this one is the most effective for me.  When I first began using this drug some years ago - tiredness as a problem but is not currently.                                                                                                                                                                                                   \n",
       "1  cleared me right up even with my throat hurting it went away after taking the medicine                                                                                                                                                                                                                                                                                                                                                    \n",
       "2  why did my PTINR go from a normal of 2.5 to over \\n100?                                                                                                                                                                                                                                                                                                                                                                                   \n",
       "3  FALLING AND DON'T REALISE IT                                                                                                                                                                                                                                                                                                                                                                                                              \n",
       "4  My grandfather was prescribed this medication (Coumadin) to assist in blood thinning due to a heart and thyroid condition.  His primary doctor was aware that he was on an aspirin regiment and still prescribed this medicine, it caused his blood to thin out to much and he ended up internally bleeding to death.  If you are going to take this medicine please ask your doctors about possible side effects or drug interactions.   \n",
       "\n",
       "   Satisfaction     Sex  \\\n",
       "0  5             Male     \n",
       "1  5             Female   \n",
       "2  3             Female   \n",
       "3  1             Female   \n",
       "4  1             Male     \n",
       "\n",
       "                                                                                                                             Sides  \\\n",
       "0  Drowsiness,  dizziness ,  dry mouth /nose/throat,  headache ,  upset stomach ,  constipation , or  trouble sleeping  may occur.   \n",
       "1  Drowsiness,  dizziness ,  dry mouth /nose/throat,  headache ,  upset stomach ,  constipation , or  trouble sleeping  may occur.   \n",
       "2                                                                                                                                    \n",
       "3                                                                                                                                    \n",
       "4                                                                                                                                    \n",
       "\n",
       "   UsefulCount  \n",
       "0  0            \n",
       "1  1            \n",
       "2  0            \n",
       "3  0            \n",
       "4  1            "
      ]
     },
     "execution_count": 3,
     "metadata": {},
     "output_type": "execute_result"
    }
   ],
   "source": [
    "rawData.head()"
   ]
  },
  {
   "cell_type": "code",
   "execution_count": 4,
   "metadata": {},
   "outputs": [
    {
     "data": {
      "text/html": [
       "<div>\n",
       "<style scoped>\n",
       "    .dataframe tbody tr th:only-of-type {\n",
       "        vertical-align: middle;\n",
       "    }\n",
       "\n",
       "    .dataframe tbody tr th {\n",
       "        vertical-align: top;\n",
       "    }\n",
       "\n",
       "    .dataframe thead th {\n",
       "        text-align: right;\n",
       "    }\n",
       "</style>\n",
       "<table border=\"1\" class=\"dataframe\">\n",
       "  <thead>\n",
       "    <tr style=\"text-align: right;\">\n",
       "      <th></th>\n",
       "      <th>ID</th>\n",
       "      <th>Age</th>\n",
       "      <th>Condition</th>\n",
       "      <th>Date</th>\n",
       "      <th>Drug</th>\n",
       "      <th>DrugId</th>\n",
       "      <th>EaseofUse</th>\n",
       "      <th>Effectiveness</th>\n",
       "      <th>Reviews</th>\n",
       "      <th>Satisfaction</th>\n",
       "      <th>Sex</th>\n",
       "      <th>Sides</th>\n",
       "      <th>UsefulCount</th>\n",
       "    </tr>\n",
       "  </thead>\n",
       "  <tbody>\n",
       "    <tr>\n",
       "      <td>0</td>\n",
       "      <td>1</td>\n",
       "      <td>75 or over</td>\n",
       "      <td>Stuffy Nose</td>\n",
       "      <td>9/21/2014</td>\n",
       "      <td>25dph-7.5peh</td>\n",
       "      <td>146724</td>\n",
       "      <td>5</td>\n",
       "      <td>5</td>\n",
       "      <td>I'm a retired physician and of all the meds I have tried for my allergies (seasonal and not) - this one is the most effective for me.  When I first began using this drug some years ago - tiredness as a problem but is not currently.</td>\n",
       "      <td>5</td>\n",
       "      <td>Male</td>\n",
       "      <td>Drowsiness,  dizziness ,  dry mouth /nose/throat,  headache ,  upset stomach ,  constipation , or  trouble sleeping  may occur.</td>\n",
       "      <td>0</td>\n",
       "    </tr>\n",
       "    <tr>\n",
       "      <td>1</td>\n",
       "      <td>2</td>\n",
       "      <td>25-34</td>\n",
       "      <td>Cold Symptoms</td>\n",
       "      <td>1/13/2011</td>\n",
       "      <td>25dph-7.5peh</td>\n",
       "      <td>146724</td>\n",
       "      <td>5</td>\n",
       "      <td>5</td>\n",
       "      <td>cleared me right up even with my throat hurting it went away after taking the medicine</td>\n",
       "      <td>5</td>\n",
       "      <td>Female</td>\n",
       "      <td>Drowsiness,  dizziness ,  dry mouth /nose/throat,  headache ,  upset stomach ,  constipation , or  trouble sleeping  may occur.</td>\n",
       "      <td>1</td>\n",
       "    </tr>\n",
       "    <tr>\n",
       "      <td>2</td>\n",
       "      <td>3</td>\n",
       "      <td>65-74</td>\n",
       "      <td>Other</td>\n",
       "      <td>7/16/2012</td>\n",
       "      <td>warfarin (bulk) 100 % powder</td>\n",
       "      <td>144731</td>\n",
       "      <td>2</td>\n",
       "      <td>3</td>\n",
       "      <td>why did my PTINR go from a normal of 2.5 to over \\n100?</td>\n",
       "      <td>3</td>\n",
       "      <td>Female</td>\n",
       "      <td></td>\n",
       "      <td>0</td>\n",
       "    </tr>\n",
       "    <tr>\n",
       "      <td>3</td>\n",
       "      <td>4</td>\n",
       "      <td>75 or over</td>\n",
       "      <td>Other</td>\n",
       "      <td>9/23/2010</td>\n",
       "      <td>warfarin (bulk) 100 % powder</td>\n",
       "      <td>144731</td>\n",
       "      <td>2</td>\n",
       "      <td>2</td>\n",
       "      <td>FALLING AND DON'T REALISE IT</td>\n",
       "      <td>1</td>\n",
       "      <td>Female</td>\n",
       "      <td></td>\n",
       "      <td>0</td>\n",
       "    </tr>\n",
       "    <tr>\n",
       "      <td>4</td>\n",
       "      <td>5</td>\n",
       "      <td>35-44</td>\n",
       "      <td>Other</td>\n",
       "      <td>1/6/2009</td>\n",
       "      <td>warfarin (bulk) 100 % powder</td>\n",
       "      <td>144731</td>\n",
       "      <td>1</td>\n",
       "      <td>1</td>\n",
       "      <td>My grandfather was prescribed this medication (Coumadin) to assist in blood thinning due to a heart and thyroid condition.  His primary doctor was aware that he was on an aspirin regiment and still prescribed this medicine, it caused his blood to thin out to much and he ended up internally bleeding to death.  If you are going to take this medicine please ask your doctors about possible side effects or drug interactions.</td>\n",
       "      <td>1</td>\n",
       "      <td>Male</td>\n",
       "      <td></td>\n",
       "      <td>1</td>\n",
       "    </tr>\n",
       "  </tbody>\n",
       "</table>\n",
       "</div>"
      ],
      "text/plain": [
       "   ID         Age      Condition       Date                          Drug  \\\n",
       "0  1   75 or over  Stuffy Nose    9/21/2014  25dph-7.5peh                   \n",
       "1  2   25-34       Cold Symptoms  1/13/2011  25dph-7.5peh                   \n",
       "2  3   65-74       Other          7/16/2012  warfarin (bulk) 100 % powder   \n",
       "3  4   75 or over  Other          9/23/2010  warfarin (bulk) 100 % powder   \n",
       "4  5   35-44       Other          1/6/2009   warfarin (bulk) 100 % powder   \n",
       "\n",
       "   DrugId  EaseofUse  Effectiveness  \\\n",
       "0  146724  5          5               \n",
       "1  146724  5          5               \n",
       "2  144731  2          3               \n",
       "3  144731  2          2               \n",
       "4  144731  1          1               \n",
       "\n",
       "                                                                                                                                                                                                                                                                                                                                                                                                                                   Reviews  \\\n",
       "0  I'm a retired physician and of all the meds I have tried for my allergies (seasonal and not) - this one is the most effective for me.  When I first began using this drug some years ago - tiredness as a problem but is not currently.                                                                                                                                                                                                   \n",
       "1  cleared me right up even with my throat hurting it went away after taking the medicine                                                                                                                                                                                                                                                                                                                                                    \n",
       "2  why did my PTINR go from a normal of 2.5 to over \\n100?                                                                                                                                                                                                                                                                                                                                                                                   \n",
       "3  FALLING AND DON'T REALISE IT                                                                                                                                                                                                                                                                                                                                                                                                              \n",
       "4  My grandfather was prescribed this medication (Coumadin) to assist in blood thinning due to a heart and thyroid condition.  His primary doctor was aware that he was on an aspirin regiment and still prescribed this medicine, it caused his blood to thin out to much and he ended up internally bleeding to death.  If you are going to take this medicine please ask your doctors about possible side effects or drug interactions.   \n",
       "\n",
       "   Satisfaction     Sex  \\\n",
       "0  5             Male     \n",
       "1  5             Female   \n",
       "2  3             Female   \n",
       "3  1             Female   \n",
       "4  1             Male     \n",
       "\n",
       "                                                                                                                             Sides  \\\n",
       "0  Drowsiness,  dizziness ,  dry mouth /nose/throat,  headache ,  upset stomach ,  constipation , or  trouble sleeping  may occur.   \n",
       "1  Drowsiness,  dizziness ,  dry mouth /nose/throat,  headache ,  upset stomach ,  constipation , or  trouble sleeping  may occur.   \n",
       "2                                                                                                                                    \n",
       "3                                                                                                                                    \n",
       "4                                                                                                                                    \n",
       "\n",
       "   UsefulCount  \n",
       "0  0            \n",
       "1  1            \n",
       "2  0            \n",
       "3  0            \n",
       "4  1            "
      ]
     },
     "execution_count": 4,
     "metadata": {},
     "output_type": "execute_result"
    }
   ],
   "source": [
    "rawData.insert(0, 'ID', range(1, 1 + len(rawData)))\n",
    "rawData.head()"
   ]
  },
  {
   "cell_type": "code",
   "execution_count": 5,
   "metadata": {},
   "outputs": [
    {
     "data": {
      "text/plain": [
       "362806"
      ]
     },
     "execution_count": 5,
     "metadata": {},
     "output_type": "execute_result"
    }
   ],
   "source": [
    "len(rawData.Reviews)"
   ]
  },
  {
   "cell_type": "code",
   "execution_count": 6,
   "metadata": {},
   "outputs": [
    {
     "data": {
      "text/plain": [
       "37"
      ]
     },
     "execution_count": 6,
     "metadata": {},
     "output_type": "execute_result"
    }
   ],
   "source": [
    " rawData['Reviews'].isnull().sum() #will remove these rows in data cleaning step"
   ]
  },
  {
   "cell_type": "code",
   "execution_count": 7,
   "metadata": {},
   "outputs": [
    {
     "data": {
      "text/html": [
       "<div>\n",
       "<style scoped>\n",
       "    .dataframe tbody tr th:only-of-type {\n",
       "        vertical-align: middle;\n",
       "    }\n",
       "\n",
       "    .dataframe tbody tr th {\n",
       "        vertical-align: top;\n",
       "    }\n",
       "\n",
       "    .dataframe thead th {\n",
       "        text-align: right;\n",
       "    }\n",
       "</style>\n",
       "<table border=\"1\" class=\"dataframe\">\n",
       "  <thead>\n",
       "    <tr style=\"text-align: right;\">\n",
       "      <th></th>\n",
       "      <th>Satisfaction</th>\n",
       "    </tr>\n",
       "  </thead>\n",
       "  <tbody>\n",
       "    <tr>\n",
       "      <td>5</td>\n",
       "      <td>111550</td>\n",
       "    </tr>\n",
       "    <tr>\n",
       "      <td>1</td>\n",
       "      <td>100901</td>\n",
       "    </tr>\n",
       "    <tr>\n",
       "      <td>4</td>\n",
       "      <td>63158</td>\n",
       "    </tr>\n",
       "    <tr>\n",
       "      <td>3</td>\n",
       "      <td>51852</td>\n",
       "    </tr>\n",
       "    <tr>\n",
       "      <td>2</td>\n",
       "      <td>35342</td>\n",
       "    </tr>\n",
       "    <tr>\n",
       "      <td>6</td>\n",
       "      <td>2</td>\n",
       "    </tr>\n",
       "    <tr>\n",
       "      <td>10</td>\n",
       "      <td>1</td>\n",
       "    </tr>\n",
       "  </tbody>\n",
       "</table>\n",
       "</div>"
      ],
      "text/plain": [
       "    Satisfaction\n",
       "5   111550      \n",
       "1   100901      \n",
       "4   63158       \n",
       "3   51852       \n",
       "2   35342       \n",
       "6   2           \n",
       "10  1           "
      ]
     },
     "execution_count": 7,
     "metadata": {},
     "output_type": "execute_result"
    }
   ],
   "source": [
    "DataFrame(rawData['Satisfaction'].value_counts())"
   ]
  },
  {
   "cell_type": "code",
   "execution_count": 8,
   "metadata": {},
   "outputs": [
    {
     "data": {
      "text/html": [
       "<div>\n",
       "<style scoped>\n",
       "    .dataframe tbody tr th:only-of-type {\n",
       "        vertical-align: middle;\n",
       "    }\n",
       "\n",
       "    .dataframe tbody tr th {\n",
       "        vertical-align: top;\n",
       "    }\n",
       "\n",
       "    .dataframe thead th {\n",
       "        text-align: right;\n",
       "    }\n",
       "</style>\n",
       "<table border=\"1\" class=\"dataframe\">\n",
       "  <thead>\n",
       "    <tr style=\"text-align: right;\">\n",
       "      <th></th>\n",
       "      <th>ID</th>\n",
       "      <th>Reviews</th>\n",
       "      <th>Satisfaction</th>\n",
       "      <th>Condition</th>\n",
       "    </tr>\n",
       "  </thead>\n",
       "  <tbody>\n",
       "    <tr>\n",
       "      <td>0</td>\n",
       "      <td>1</td>\n",
       "      <td>i'm a retired physician and of all the meds i have tried for my allergies (seasonal and not) - this one is the most effective for me.  when i first began using this drug some years ago - tiredness as a problem but is not currently.</td>\n",
       "      <td>5</td>\n",
       "      <td>Stuffy Nose</td>\n",
       "    </tr>\n",
       "    <tr>\n",
       "      <td>1</td>\n",
       "      <td>2</td>\n",
       "      <td>cleared me right up even with my throat hurting it went away after taking the medicine</td>\n",
       "      <td>5</td>\n",
       "      <td>Cold Symptoms</td>\n",
       "    </tr>\n",
       "    <tr>\n",
       "      <td>2</td>\n",
       "      <td>3</td>\n",
       "      <td>why did my ptinr go from a normal of 2.5 to over \\n100?</td>\n",
       "      <td>3</td>\n",
       "      <td>Other</td>\n",
       "    </tr>\n",
       "    <tr>\n",
       "      <td>3</td>\n",
       "      <td>4</td>\n",
       "      <td>falling and don't realise it</td>\n",
       "      <td>1</td>\n",
       "      <td>Other</td>\n",
       "    </tr>\n",
       "    <tr>\n",
       "      <td>4</td>\n",
       "      <td>5</td>\n",
       "      <td>my grandfather was prescribed this medication (coumadin) to assist in blood thinning due to a heart and thyroid condition.  his primary doctor was aware that he was on an aspirin regiment and still prescribed this medicine, it caused his blood to thin out to much and he ended up internally bleeding to death.  if you are going to take this medicine please ask your doctors about possible side effects or drug interactions.</td>\n",
       "      <td>1</td>\n",
       "      <td>Other</td>\n",
       "    </tr>\n",
       "  </tbody>\n",
       "</table>\n",
       "</div>"
      ],
      "text/plain": [
       "   ID  \\\n",
       "0  1    \n",
       "1  2    \n",
       "2  3    \n",
       "3  4    \n",
       "4  5    \n",
       "\n",
       "                                                                                                                                                                                                                                                                                                                                                                                                                                   Reviews  \\\n",
       "0  i'm a retired physician and of all the meds i have tried for my allergies (seasonal and not) - this one is the most effective for me.  when i first began using this drug some years ago - tiredness as a problem but is not currently.                                                                                                                                                                                                   \n",
       "1  cleared me right up even with my throat hurting it went away after taking the medicine                                                                                                                                                                                                                                                                                                                                                    \n",
       "2  why did my ptinr go from a normal of 2.5 to over \\n100?                                                                                                                                                                                                                                                                                                                                                                                   \n",
       "3  falling and don't realise it                                                                                                                                                                                                                                                                                                                                                                                                              \n",
       "4  my grandfather was prescribed this medication (coumadin) to assist in blood thinning due to a heart and thyroid condition.  his primary doctor was aware that he was on an aspirin regiment and still prescribed this medicine, it caused his blood to thin out to much and he ended up internally bleeding to death.  if you are going to take this medicine please ask your doctors about possible side effects or drug interactions.   \n",
       "\n",
       "   Satisfaction      Condition  \n",
       "0  5             Stuffy Nose    \n",
       "1  5             Cold Symptoms  \n",
       "2  3             Other          \n",
       "3  1             Other          \n",
       "4  1             Other          "
      ]
     },
     "execution_count": 8,
     "metadata": {},
     "output_type": "execute_result"
    }
   ],
   "source": [
    "rawData = rawData[[\"ID\",\"Reviews\",\"Satisfaction\",\"Condition\"]]\n",
    "rawData ['Reviews'] = rawData['Reviews'].str.lower()\n",
    "rawData.head()"
   ]
  },
  {
   "cell_type": "code",
   "execution_count": 9,
   "metadata": {},
   "outputs": [
    {
     "data": {
      "text/plain": [
       "23271"
      ]
     },
     "execution_count": 9,
     "metadata": {},
     "output_type": "execute_result"
    }
   ],
   "source": [
    "list = ['High Blood Pressure']\n",
    "rawData_HBP = rawData[rawData.Condition.isin(list)]\n",
    "rawData_HBP['Reviews'].count()"
   ]
  },
  {
   "cell_type": "code",
   "execution_count": 10,
   "metadata": {},
   "outputs": [
    {
     "data": {
      "text/html": [
       "<div>\n",
       "<style scoped>\n",
       "    .dataframe tbody tr th:only-of-type {\n",
       "        vertical-align: middle;\n",
       "    }\n",
       "\n",
       "    .dataframe tbody tr th {\n",
       "        vertical-align: top;\n",
       "    }\n",
       "\n",
       "    .dataframe thead th {\n",
       "        text-align: right;\n",
       "    }\n",
       "</style>\n",
       "<table border=\"1\" class=\"dataframe\">\n",
       "  <thead>\n",
       "    <tr style=\"text-align: right;\">\n",
       "      <th></th>\n",
       "    </tr>\n",
       "  </thead>\n",
       "  <tbody>\n",
       "  </tbody>\n",
       "</table>\n",
       "</div>"
      ],
      "text/plain": [
       "Empty DataFrame\n",
       "Columns: []\n",
       "Index: []"
      ]
     },
     "execution_count": 10,
     "metadata": {},
     "output_type": "execute_result"
    }
   ],
   "source": [
    "DataFrame(rawData.drop(rawData[rawData['Satisfaction'] > 5].index, inplace = True))"
   ]
  },
  {
   "cell_type": "code",
   "execution_count": 11,
   "metadata": {},
   "outputs": [
    {
     "data": {
      "text/html": [
       "<div>\n",
       "<style scoped>\n",
       "    .dataframe tbody tr th:only-of-type {\n",
       "        vertical-align: middle;\n",
       "    }\n",
       "\n",
       "    .dataframe tbody tr th {\n",
       "        vertical-align: top;\n",
       "    }\n",
       "\n",
       "    .dataframe thead th {\n",
       "        text-align: right;\n",
       "    }\n",
       "</style>\n",
       "<table border=\"1\" class=\"dataframe\">\n",
       "  <thead>\n",
       "    <tr style=\"text-align: right;\">\n",
       "      <th></th>\n",
       "      <th>Satisfaction</th>\n",
       "    </tr>\n",
       "  </thead>\n",
       "  <tbody>\n",
       "    <tr>\n",
       "      <td>1</td>\n",
       "      <td>7412</td>\n",
       "    </tr>\n",
       "    <tr>\n",
       "      <td>5</td>\n",
       "      <td>5367</td>\n",
       "    </tr>\n",
       "    <tr>\n",
       "      <td>3</td>\n",
       "      <td>3922</td>\n",
       "    </tr>\n",
       "    <tr>\n",
       "      <td>4</td>\n",
       "      <td>3707</td>\n",
       "    </tr>\n",
       "    <tr>\n",
       "      <td>2</td>\n",
       "      <td>2867</td>\n",
       "    </tr>\n",
       "  </tbody>\n",
       "</table>\n",
       "</div>"
      ],
      "text/plain": [
       "   Satisfaction\n",
       "1  7412        \n",
       "5  5367        \n",
       "3  3922        \n",
       "4  3707        \n",
       "2  2867        "
      ]
     },
     "execution_count": 11,
     "metadata": {},
     "output_type": "execute_result"
    }
   ],
   "source": [
    "DataFrame(rawData_HBP['Satisfaction'].value_counts())"
   ]
  },
  {
   "cell_type": "code",
   "execution_count": 12,
   "metadata": {},
   "outputs": [
    {
     "data": {
      "text/html": [
       "<div>\n",
       "<style scoped>\n",
       "    .dataframe tbody tr th:only-of-type {\n",
       "        vertical-align: middle;\n",
       "    }\n",
       "\n",
       "    .dataframe tbody tr th {\n",
       "        vertical-align: top;\n",
       "    }\n",
       "\n",
       "    .dataframe thead th {\n",
       "        text-align: right;\n",
       "    }\n",
       "</style>\n",
       "<table border=\"1\" class=\"dataframe\">\n",
       "  <thead>\n",
       "    <tr style=\"text-align: right;\">\n",
       "      <th></th>\n",
       "      <th>ID</th>\n",
       "      <th>Reviews</th>\n",
       "      <th>Satisfaction</th>\n",
       "    </tr>\n",
       "  </thead>\n",
       "  <tbody>\n",
       "    <tr>\n",
       "      <td>3918</td>\n",
       "      <td>3919</td>\n",
       "      <td>i am having bouts of horrible dry coughing.</td>\n",
       "      <td>3</td>\n",
       "    </tr>\n",
       "    <tr>\n",
       "      <td>3930</td>\n",
       "      <td>3931</td>\n",
       "      <td>initially, i was put on lotrel 10/20 for moderate hypertension. i lost weight and improved lifestyle, and bp started being too low, so my dr. lowered dosage to 5/10. i have successfully taken it for years (not really sure if lotrel or generic; seems like it depends on pharmacy and/or changes in my insurance). i do not know if it is related to this med or not, but over the last year, i have developed extreme rash and unbearable itching. dermatologist (i've seen 2 different ones) have prescribed a multitude of creams, moisturizers, steroids, etc. possible diagnoses of contact dermatitis (no way). it changes locations (inside forearms, stomach, back,</td>\n",
       "      <td>4</td>\n",
       "    </tr>\n",
       "    <tr>\n",
       "      <td>3939</td>\n",
       "      <td>3940</td>\n",
       "      <td>this medication caused my blood pressure to elevate after taking for a couple of months. my numbers would be 158/108. i was dehydrated from urinating constantly. swelling of fingers, ankles and feet.</td>\n",
       "      <td>1</td>\n",
       "    </tr>\n",
       "    <tr>\n",
       "      <td>3948</td>\n",
       "      <td>3949</td>\n",
       "      <td></td>\n",
       "      <td>5</td>\n",
       "    </tr>\n",
       "    <tr>\n",
       "      <td>3958</td>\n",
       "      <td>3959</td>\n",
       "      <td>i was on this medication for 2 weeks. had side effects that were similar to the flu plus swelling of the left side of my throat, ear pain. also there was a constant drip of fluid from the left side of my head down to my left ear. i stopped med after 2 weeks. i was treated for a ear infection 1 month later. i was seen in the er for chest pain. saw my primary during those first 2 weeks he felt it was the flu and my imagination. the left side of my head felt like it was closed up. had ringing in my ears and decreased hearing, which was verified by hearing test. the ringing has lessened a lot over the past 2 years. changed primary doctors and now on losartan hct and amlodipine, no side effects and controls bp.</td>\n",
       "      <td>1</td>\n",
       "    </tr>\n",
       "  </tbody>\n",
       "</table>\n",
       "</div>"
      ],
      "text/plain": [
       "        ID  \\\n",
       "3918  3919   \n",
       "3930  3931   \n",
       "3939  3940   \n",
       "3948  3949   \n",
       "3958  3959   \n",
       "\n",
       "                                                                                                                                                                                                                                                                                                                                                                                                                                                                                                                                                                                                                                                                                                                                          Reviews  \\\n",
       "3918  i am having bouts of horrible dry coughing.                                                                                                                                                                                                                                                                                                                                                                                                                                                                                                                                                                                                                                                                                                   \n",
       "3930  initially, i was put on lotrel 10/20 for moderate hypertension. i lost weight and improved lifestyle, and bp started being too low, so my dr. lowered dosage to 5/10. i have successfully taken it for years (not really sure if lotrel or generic; seems like it depends on pharmacy and/or changes in my insurance). i do not know if it is related to this med or not, but over the last year, i have developed extreme rash and unbearable itching. dermatologist (i've seen 2 different ones) have prescribed a multitude of creams, moisturizers, steroids, etc. possible diagnoses of contact dermatitis (no way). it changes locations (inside forearms, stomach, back,                                                               \n",
       "3939  this medication caused my blood pressure to elevate after taking for a couple of months. my numbers would be 158/108. i was dehydrated from urinating constantly. swelling of fingers, ankles and feet.                                                                                                                                                                                                                                                                                                                                                                                                                                                                                                                                       \n",
       "3948                                                                                                                                                                                                                                                                                                                                                                                                                                                                                                                                                                                                                                                                                                                                                \n",
       "3958  i was on this medication for 2 weeks. had side effects that were similar to the flu plus swelling of the left side of my throat, ear pain. also there was a constant drip of fluid from the left side of my head down to my left ear. i stopped med after 2 weeks. i was treated for a ear infection 1 month later. i was seen in the er for chest pain. saw my primary during those first 2 weeks he felt it was the flu and my imagination. the left side of my head felt like it was closed up. had ringing in my ears and decreased hearing, which was verified by hearing test. the ringing has lessened a lot over the past 2 years. changed primary doctors and now on losartan hct and amlodipine, no side effects and controls bp.   \n",
       "\n",
       "      Satisfaction  \n",
       "3918  3             \n",
       "3930  4             \n",
       "3939  1             \n",
       "3948  5             \n",
       "3958  1             "
      ]
     },
     "execution_count": 12,
     "metadata": {},
     "output_type": "execute_result"
    }
   ],
   "source": [
    "rawData_HBP = rawData_HBP[[\"ID\",\"Reviews\",\"Satisfaction\"]]\n",
    "rawData_HBP['Reviews'] = rawData_HBP['Reviews'].str.lower()\n",
    "rawData_HBP.reset_index()\n",
    "rawData_HBP.head()"
   ]
  },
  {
   "cell_type": "code",
   "execution_count": 13,
   "metadata": {},
   "outputs": [],
   "source": [
    "indexNames = rawData_HBP[ (rawData_HBP['Satisfaction'] >= 2) & (rawData_HBP['Satisfaction'] <= 3)].index\n",
    "rawData_HBP.drop(indexNames , inplace=True)"
   ]
  },
  {
   "cell_type": "code",
   "execution_count": 14,
   "metadata": {},
   "outputs": [
    {
     "data": {
      "text/html": [
       "<div>\n",
       "<style scoped>\n",
       "    .dataframe tbody tr th:only-of-type {\n",
       "        vertical-align: middle;\n",
       "    }\n",
       "\n",
       "    .dataframe tbody tr th {\n",
       "        vertical-align: top;\n",
       "    }\n",
       "\n",
       "    .dataframe thead th {\n",
       "        text-align: right;\n",
       "    }\n",
       "</style>\n",
       "<table border=\"1\" class=\"dataframe\">\n",
       "  <thead>\n",
       "    <tr style=\"text-align: right;\">\n",
       "      <th></th>\n",
       "      <th>ID</th>\n",
       "      <th>Reviews</th>\n",
       "      <th>Satisfaction</th>\n",
       "    </tr>\n",
       "  </thead>\n",
       "  <tbody>\n",
       "    <tr>\n",
       "      <td>3930</td>\n",
       "      <td>3931</td>\n",
       "      <td>initially, i was put on lotrel 10/20 for moderate hypertension. i lost weight and improved lifestyle, and bp started being too low, so my dr. lowered dosage to 5/10. i have successfully taken it for years (not really sure if lotrel or generic; seems like it depends on pharmacy and/or changes in my insurance). i do not know if it is related to this med or not, but over the last year, i have developed extreme rash and unbearable itching. dermatologist (i've seen 2 different ones) have prescribed a multitude of creams, moisturizers, steroids, etc. possible diagnoses of contact dermatitis (no way). it changes locations (inside forearms, stomach, back,</td>\n",
       "      <td>4</td>\n",
       "    </tr>\n",
       "    <tr>\n",
       "      <td>3939</td>\n",
       "      <td>3940</td>\n",
       "      <td>this medication caused my blood pressure to elevate after taking for a couple of months. my numbers would be 158/108. i was dehydrated from urinating constantly. swelling of fingers, ankles and feet.</td>\n",
       "      <td>1</td>\n",
       "    </tr>\n",
       "    <tr>\n",
       "      <td>3948</td>\n",
       "      <td>3949</td>\n",
       "      <td></td>\n",
       "      <td>5</td>\n",
       "    </tr>\n",
       "    <tr>\n",
       "      <td>3958</td>\n",
       "      <td>3959</td>\n",
       "      <td>i was on this medication for 2 weeks. had side effects that were similar to the flu plus swelling of the left side of my throat, ear pain. also there was a constant drip of fluid from the left side of my head down to my left ear. i stopped med after 2 weeks. i was treated for a ear infection 1 month later. i was seen in the er for chest pain. saw my primary during those first 2 weeks he felt it was the flu and my imagination. the left side of my head felt like it was closed up. had ringing in my ears and decreased hearing, which was verified by hearing test. the ringing has lessened a lot over the past 2 years. changed primary doctors and now on losartan hct and amlodipine, no side effects and controls bp.</td>\n",
       "      <td>1</td>\n",
       "    </tr>\n",
       "    <tr>\n",
       "      <td>3967</td>\n",
       "      <td>3968</td>\n",
       "      <td>i have a scratchy throat that makes me cough all day &amp; night. my cough is wet like water on my lungs. i have leg pain.  my knee hurts more than every before. been on it 2 mo. dont like it.</td>\n",
       "      <td>1</td>\n",
       "    </tr>\n",
       "  </tbody>\n",
       "</table>\n",
       "</div>"
      ],
      "text/plain": [
       "        ID  \\\n",
       "3930  3931   \n",
       "3939  3940   \n",
       "3948  3949   \n",
       "3958  3959   \n",
       "3967  3968   \n",
       "\n",
       "                                                                                                                                                                                                                                                                                                                                                                                                                                                                                                                                                                                                                                                                                                                                          Reviews  \\\n",
       "3930  initially, i was put on lotrel 10/20 for moderate hypertension. i lost weight and improved lifestyle, and bp started being too low, so my dr. lowered dosage to 5/10. i have successfully taken it for years (not really sure if lotrel or generic; seems like it depends on pharmacy and/or changes in my insurance). i do not know if it is related to this med or not, but over the last year, i have developed extreme rash and unbearable itching. dermatologist (i've seen 2 different ones) have prescribed a multitude of creams, moisturizers, steroids, etc. possible diagnoses of contact dermatitis (no way). it changes locations (inside forearms, stomach, back,                                                               \n",
       "3939  this medication caused my blood pressure to elevate after taking for a couple of months. my numbers would be 158/108. i was dehydrated from urinating constantly. swelling of fingers, ankles and feet.                                                                                                                                                                                                                                                                                                                                                                                                                                                                                                                                       \n",
       "3948                                                                                                                                                                                                                                                                                                                                                                                                                                                                                                                                                                                                                                                                                                                                                \n",
       "3958  i was on this medication for 2 weeks. had side effects that were similar to the flu plus swelling of the left side of my throat, ear pain. also there was a constant drip of fluid from the left side of my head down to my left ear. i stopped med after 2 weeks. i was treated for a ear infection 1 month later. i was seen in the er for chest pain. saw my primary during those first 2 weeks he felt it was the flu and my imagination. the left side of my head felt like it was closed up. had ringing in my ears and decreased hearing, which was verified by hearing test. the ringing has lessened a lot over the past 2 years. changed primary doctors and now on losartan hct and amlodipine, no side effects and controls bp.   \n",
       "3967  i have a scratchy throat that makes me cough all day & night. my cough is wet like water on my lungs. i have leg pain.  my knee hurts more than every before. been on it 2 mo. dont like it.                                                                                                                                                                                                                                                                                                                                                                                                                                                                                                                                                  \n",
       "\n",
       "      Satisfaction  \n",
       "3930  4             \n",
       "3939  1             \n",
       "3948  5             \n",
       "3958  1             \n",
       "3967  1             "
      ]
     },
     "execution_count": 14,
     "metadata": {},
     "output_type": "execute_result"
    }
   ],
   "source": [
    "rawData_HBP.head()"
   ]
  },
  {
   "cell_type": "code",
   "execution_count": 15,
   "metadata": {},
   "outputs": [],
   "source": [
    "rawData_HBP['Satisfaction'] = rawData_HBP['Satisfaction'].replace([5],'Positive')\n",
    "rawData_HBP['Satisfaction'] = rawData_HBP['Satisfaction'].replace([4],'Positive')\n",
    "rawData_HBP['Satisfaction'] = rawData_HBP['Satisfaction'].replace([1],'Negative')\n"
   ]
  },
  {
   "cell_type": "code",
   "execution_count": 16,
   "metadata": {},
   "outputs": [
    {
     "data": {
      "text/plain": [
       "Positive    9074\n",
       "Negative    7412\n",
       "Name: Satisfaction, dtype: int64"
      ]
     },
     "execution_count": 16,
     "metadata": {},
     "output_type": "execute_result"
    }
   ],
   "source": [
    "rawData_HBP['Satisfaction'].value_counts()"
   ]
  },
  {
   "cell_type": "code",
   "execution_count": 17,
   "metadata": {},
   "outputs": [
    {
     "data": {
      "text/html": [
       "<div>\n",
       "<style scoped>\n",
       "    .dataframe tbody tr th:only-of-type {\n",
       "        vertical-align: middle;\n",
       "    }\n",
       "\n",
       "    .dataframe tbody tr th {\n",
       "        vertical-align: top;\n",
       "    }\n",
       "\n",
       "    .dataframe thead th {\n",
       "        text-align: right;\n",
       "    }\n",
       "</style>\n",
       "<table border=\"1\" class=\"dataframe\">\n",
       "  <thead>\n",
       "    <tr style=\"text-align: right;\">\n",
       "      <th></th>\n",
       "      <th>ID</th>\n",
       "      <th>Reviews</th>\n",
       "      <th>Satisfaction</th>\n",
       "    </tr>\n",
       "  </thead>\n",
       "  <tbody>\n",
       "    <tr>\n",
       "      <td>3930</td>\n",
       "      <td>3931</td>\n",
       "      <td>initially, i was put on lotrel 10/20 for moderate hypertension. i lost weight and improved lifestyle, and bp started being too low, so my dr. lowered dosage to 5/10. i have successfully taken it for years (not really sure if lotrel or generic; seems like it depends on pharmacy and/or changes in my insurance). i do not know if it is related to this med or not, but over the last year, i have developed extreme rash and unbearable itching. dermatologist (i've seen 2 different ones) have prescribed a multitude of creams, moisturizers, steroids, etc. possible diagnoses of contact dermatitis (no way). it changes locations (inside forearms, stomach, back,</td>\n",
       "      <td>Positive</td>\n",
       "    </tr>\n",
       "    <tr>\n",
       "      <td>3939</td>\n",
       "      <td>3940</td>\n",
       "      <td>this medication caused my blood pressure to elevate after taking for a couple of months. my numbers would be 158/108. i was dehydrated from urinating constantly. swelling of fingers, ankles and feet.</td>\n",
       "      <td>Negative</td>\n",
       "    </tr>\n",
       "    <tr>\n",
       "      <td>3948</td>\n",
       "      <td>3949</td>\n",
       "      <td></td>\n",
       "      <td>Positive</td>\n",
       "    </tr>\n",
       "    <tr>\n",
       "      <td>3958</td>\n",
       "      <td>3959</td>\n",
       "      <td>i was on this medication for 2 weeks. had side effects that were similar to the flu plus swelling of the left side of my throat, ear pain. also there was a constant drip of fluid from the left side of my head down to my left ear. i stopped med after 2 weeks. i was treated for a ear infection 1 month later. i was seen in the er for chest pain. saw my primary during those first 2 weeks he felt it was the flu and my imagination. the left side of my head felt like it was closed up. had ringing in my ears and decreased hearing, which was verified by hearing test. the ringing has lessened a lot over the past 2 years. changed primary doctors and now on losartan hct and amlodipine, no side effects and controls bp.</td>\n",
       "      <td>Negative</td>\n",
       "    </tr>\n",
       "    <tr>\n",
       "      <td>3967</td>\n",
       "      <td>3968</td>\n",
       "      <td>i have a scratchy throat that makes me cough all day &amp; night. my cough is wet like water on my lungs. i have leg pain.  my knee hurts more than every before. been on it 2 mo. dont like it.</td>\n",
       "      <td>Negative</td>\n",
       "    </tr>\n",
       "  </tbody>\n",
       "</table>\n",
       "</div>"
      ],
      "text/plain": [
       "        ID  \\\n",
       "3930  3931   \n",
       "3939  3940   \n",
       "3948  3949   \n",
       "3958  3959   \n",
       "3967  3968   \n",
       "\n",
       "                                                                                                                                                                                                                                                                                                                                                                                                                                                                                                                                                                                                                                                                                                                                          Reviews  \\\n",
       "3930  initially, i was put on lotrel 10/20 for moderate hypertension. i lost weight and improved lifestyle, and bp started being too low, so my dr. lowered dosage to 5/10. i have successfully taken it for years (not really sure if lotrel or generic; seems like it depends on pharmacy and/or changes in my insurance). i do not know if it is related to this med or not, but over the last year, i have developed extreme rash and unbearable itching. dermatologist (i've seen 2 different ones) have prescribed a multitude of creams, moisturizers, steroids, etc. possible diagnoses of contact dermatitis (no way). it changes locations (inside forearms, stomach, back,                                                               \n",
       "3939  this medication caused my blood pressure to elevate after taking for a couple of months. my numbers would be 158/108. i was dehydrated from urinating constantly. swelling of fingers, ankles and feet.                                                                                                                                                                                                                                                                                                                                                                                                                                                                                                                                       \n",
       "3948                                                                                                                                                                                                                                                                                                                                                                                                                                                                                                                                                                                                                                                                                                                                                \n",
       "3958  i was on this medication for 2 weeks. had side effects that were similar to the flu plus swelling of the left side of my throat, ear pain. also there was a constant drip of fluid from the left side of my head down to my left ear. i stopped med after 2 weeks. i was treated for a ear infection 1 month later. i was seen in the er for chest pain. saw my primary during those first 2 weeks he felt it was the flu and my imagination. the left side of my head felt like it was closed up. had ringing in my ears and decreased hearing, which was verified by hearing test. the ringing has lessened a lot over the past 2 years. changed primary doctors and now on losartan hct and amlodipine, no side effects and controls bp.   \n",
       "3967  i have a scratchy throat that makes me cough all day & night. my cough is wet like water on my lungs. i have leg pain.  my knee hurts more than every before. been on it 2 mo. dont like it.                                                                                                                                                                                                                                                                                                                                                                                                                                                                                                                                                  \n",
       "\n",
       "     Satisfaction  \n",
       "3930  Positive     \n",
       "3939  Negative     \n",
       "3948  Positive     \n",
       "3958  Negative     \n",
       "3967  Negative     "
      ]
     },
     "execution_count": 17,
     "metadata": {},
     "output_type": "execute_result"
    }
   ],
   "source": [
    "rawData_HBP.head()"
   ]
  },
  {
   "cell_type": "code",
   "execution_count": 18,
   "metadata": {},
   "outputs": [
    {
     "name": "stderr",
     "output_type": "stream",
     "text": [
      "[nltk_data] Downloading package stopwords to\n",
      "[nltk_data]     C:\\Users\\pruth\\AppData\\Roaming\\nltk_data...\n",
      "[nltk_data]   Package stopwords is already up-to-date!\n"
     ]
    }
   ],
   "source": [
    "import nltk\n",
    "nltk.download('stopwords')\n",
    "from nltk.corpus import stopwords \n",
    "from nltk.tokenize import word_tokenize \n",
    "stop_words_english = set(stopwords.words('english')) \n",
    "rawData_HBP.dropna(inplace=True)\n",
    "\n",
    "def english_stop_word_remover(x):\n",
    "    count = type(x)\n",
    "    word_tokens = word_tokenize(x) \n",
    "    filtered_sentence = [w for w in word_tokens if not w in stop_words_english] \n",
    "  \n",
    "    filtered_sentence = [] \n",
    "    \n",
    "    for w in word_tokens: \n",
    "        if w not in stop_words_english: \n",
    "            filtered_sentence.append(w) \n",
    "    return ' '.join(filtered_sentence)\n",
    "\n"
   ]
  },
  {
   "cell_type": "code",
   "execution_count": 19,
   "metadata": {},
   "outputs": [
    {
     "data": {
      "text/html": [
       "<div>\n",
       "<style scoped>\n",
       "    .dataframe tbody tr th:only-of-type {\n",
       "        vertical-align: middle;\n",
       "    }\n",
       "\n",
       "    .dataframe tbody tr th {\n",
       "        vertical-align: top;\n",
       "    }\n",
       "\n",
       "    .dataframe thead th {\n",
       "        text-align: right;\n",
       "    }\n",
       "</style>\n",
       "<table border=\"1\" class=\"dataframe\">\n",
       "  <thead>\n",
       "    <tr style=\"text-align: right;\">\n",
       "      <th></th>\n",
       "      <th>ID</th>\n",
       "      <th>Reviews</th>\n",
       "      <th>Satisfaction</th>\n",
       "    </tr>\n",
       "  </thead>\n",
       "  <tbody>\n",
       "    <tr>\n",
       "      <td>3930</td>\n",
       "      <td>3931</td>\n",
       "      <td>initially , put lotrel 10/20 moderate hypertension . lost weight improved lifestyle , bp started low , dr. lowered dosage 5/10 . successfully taken years ( really sure lotrel generic ; seems like depends pharmacy and/or changes insurance ) . know related med , last year , developed extreme rash unbearable itching . dermatologist ( 've seen 2 different ones ) prescribed multitude creams , moisturizers , steroids , etc . possible diagnoses contact dermatitis ( way ) . changes locations ( inside forearms , stomach , back ,</td>\n",
       "      <td>Positive</td>\n",
       "    </tr>\n",
       "    <tr>\n",
       "      <td>3939</td>\n",
       "      <td>3940</td>\n",
       "      <td>medication caused blood pressure elevate taking couple months . numbers would 158/108 . dehydrated urinating constantly . swelling fingers , ankles feet .</td>\n",
       "      <td>Negative</td>\n",
       "    </tr>\n",
       "    <tr>\n",
       "      <td>3948</td>\n",
       "      <td>3949</td>\n",
       "      <td></td>\n",
       "      <td>Positive</td>\n",
       "    </tr>\n",
       "    <tr>\n",
       "      <td>3958</td>\n",
       "      <td>3959</td>\n",
       "      <td>medication 2 weeks . side effects similar flu plus swelling left side throat , ear pain . also constant drip fluid left side head left ear . stopped med 2 weeks . treated ear infection 1 month later . seen er chest pain . saw primary first 2 weeks felt flu imagination . left side head felt like closed . ringing ears decreased hearing , verified hearing test . ringing lessened lot past 2 years . changed primary doctors losartan hct amlodipine , side effects controls bp .</td>\n",
       "      <td>Negative</td>\n",
       "    </tr>\n",
       "    <tr>\n",
       "      <td>3967</td>\n",
       "      <td>3968</td>\n",
       "      <td>scratchy throat makes cough day &amp; night . cough wet like water lungs . leg pain . knee hurts every . 2 mo . dont like .</td>\n",
       "      <td>Negative</td>\n",
       "    </tr>\n",
       "  </tbody>\n",
       "</table>\n",
       "</div>"
      ],
      "text/plain": [
       "        ID  \\\n",
       "3930  3931   \n",
       "3939  3940   \n",
       "3948  3949   \n",
       "3958  3959   \n",
       "3967  3968   \n",
       "\n",
       "                                                                                                                                                                                                                                                                                                                                                                                                                                                                                                                                            Reviews  \\\n",
       "3930  initially , put lotrel 10/20 moderate hypertension . lost weight improved lifestyle , bp started low , dr. lowered dosage 5/10 . successfully taken years ( really sure lotrel generic ; seems like depends pharmacy and/or changes insurance ) . know related med , last year , developed extreme rash unbearable itching . dermatologist ( 've seen 2 different ones ) prescribed multitude creams , moisturizers , steroids , etc . possible diagnoses contact dermatitis ( way ) . changes locations ( inside forearms , stomach , back ,   \n",
       "3939  medication caused blood pressure elevate taking couple months . numbers would 158/108 . dehydrated urinating constantly . swelling fingers , ankles feet .                                                                                                                                                                                                                                                                                                                                                                                      \n",
       "3948                                                                                                                                                                                                                                                                                                                                                                                                                                                                                                                                                  \n",
       "3958  medication 2 weeks . side effects similar flu plus swelling left side throat , ear pain . also constant drip fluid left side head left ear . stopped med 2 weeks . treated ear infection 1 month later . seen er chest pain . saw primary first 2 weeks felt flu imagination . left side head felt like closed . ringing ears decreased hearing , verified hearing test . ringing lessened lot past 2 years . changed primary doctors losartan hct amlodipine , side effects controls bp .                                                      \n",
       "3967  scratchy throat makes cough day & night . cough wet like water lungs . leg pain . knee hurts every . 2 mo . dont like .                                                                                                                                                                                                                                                                                                                                                                                                                         \n",
       "\n",
       "     Satisfaction  \n",
       "3930  Positive     \n",
       "3939  Negative     \n",
       "3948  Positive     \n",
       "3958  Negative     \n",
       "3967  Negative     "
      ]
     },
     "execution_count": 19,
     "metadata": {},
     "output_type": "execute_result"
    }
   ],
   "source": [
    "rawData_HBP['Reviews'] = rawData_HBP['Reviews'].apply(english_stop_word_remover)\n",
    "\n",
    "rawData_HBP.head()"
   ]
  },
  {
   "cell_type": "code",
   "execution_count": 20,
   "metadata": {},
   "outputs": [
    {
     "data": {
      "text/plain": [
       "16484"
      ]
     },
     "execution_count": 20,
     "metadata": {},
     "output_type": "execute_result"
    }
   ],
   "source": [
    "rawData_HBP['Reviews'].count()"
   ]
  },
  {
   "cell_type": "code",
   "execution_count": 21,
   "metadata": {},
   "outputs": [
    {
     "data": {
      "text/html": [
       "<div>\n",
       "<style scoped>\n",
       "    .dataframe tbody tr th:only-of-type {\n",
       "        vertical-align: middle;\n",
       "    }\n",
       "\n",
       "    .dataframe tbody tr th {\n",
       "        vertical-align: top;\n",
       "    }\n",
       "\n",
       "    .dataframe thead th {\n",
       "        text-align: right;\n",
       "    }\n",
       "</style>\n",
       "<table border=\"1\" class=\"dataframe\">\n",
       "  <thead>\n",
       "    <tr style=\"text-align: right;\">\n",
       "      <th></th>\n",
       "      <th>ID</th>\n",
       "      <th>Reviews</th>\n",
       "      <th>Satisfaction</th>\n",
       "    </tr>\n",
       "  </thead>\n",
       "  <tbody>\n",
       "    <tr>\n",
       "      <td>3930</td>\n",
       "      <td>3931</td>\n",
       "      <td>initially , put lotrel 10/20 moderate hypertension . lost weight improved lifestyle , bp started low , dr. lowered dosage 5/10 . successfully taken years ( really sure lotrel generic ; seems like depends pharmacy and/or changes insurance ) . know related med , last year , developed extreme rash unbearable itching . dermatologist ( 've seen 2 different ones ) prescribed multitude creams , moisturizers , steroids , etc . possible diagnoses contact dermatitis ( way ) . changes locations ( inside forearms , stomach , back ,</td>\n",
       "      <td>Positive</td>\n",
       "    </tr>\n",
       "    <tr>\n",
       "      <td>3939</td>\n",
       "      <td>3940</td>\n",
       "      <td>medication caused blood pressure elevate taking couple months . numbers would 158/108 . dehydrated urinating constantly . swelling fingers , ankles feet .</td>\n",
       "      <td>Negative</td>\n",
       "    </tr>\n",
       "    <tr>\n",
       "      <td>3958</td>\n",
       "      <td>3959</td>\n",
       "      <td>medication 2 weeks . side effects similar flu plus swelling left side throat , ear pain . also constant drip fluid left side head left ear . stopped med 2 weeks . treated ear infection 1 month later . seen er chest pain . saw primary first 2 weeks felt flu imagination . left side head felt like closed . ringing ears decreased hearing , verified hearing test . ringing lessened lot past 2 years . changed primary doctors losartan hct amlodipine , side effects controls bp .</td>\n",
       "      <td>Negative</td>\n",
       "    </tr>\n",
       "    <tr>\n",
       "      <td>3967</td>\n",
       "      <td>3968</td>\n",
       "      <td>scratchy throat makes cough day &amp; night . cough wet like water lungs . leg pain . knee hurts every . 2 mo . dont like .</td>\n",
       "      <td>Negative</td>\n",
       "    </tr>\n",
       "    <tr>\n",
       "      <td>3977</td>\n",
       "      <td>3978</td>\n",
       "      <td>since starting lotrel , lab work showing low white blood cell . wonder drug lotrel cause .</td>\n",
       "      <td>Positive</td>\n",
       "    </tr>\n",
       "  </tbody>\n",
       "</table>\n",
       "</div>"
      ],
      "text/plain": [
       "        ID  \\\n",
       "3930  3931   \n",
       "3939  3940   \n",
       "3958  3959   \n",
       "3967  3968   \n",
       "3977  3978   \n",
       "\n",
       "                                                                                                                                                                                                                                                                                                                                                                                                                                                                                                                                            Reviews  \\\n",
       "3930  initially , put lotrel 10/20 moderate hypertension . lost weight improved lifestyle , bp started low , dr. lowered dosage 5/10 . successfully taken years ( really sure lotrel generic ; seems like depends pharmacy and/or changes insurance ) . know related med , last year , developed extreme rash unbearable itching . dermatologist ( 've seen 2 different ones ) prescribed multitude creams , moisturizers , steroids , etc . possible diagnoses contact dermatitis ( way ) . changes locations ( inside forearms , stomach , back ,   \n",
       "3939  medication caused blood pressure elevate taking couple months . numbers would 158/108 . dehydrated urinating constantly . swelling fingers , ankles feet .                                                                                                                                                                                                                                                                                                                                                                                      \n",
       "3958  medication 2 weeks . side effects similar flu plus swelling left side throat , ear pain . also constant drip fluid left side head left ear . stopped med 2 weeks . treated ear infection 1 month later . seen er chest pain . saw primary first 2 weeks felt flu imagination . left side head felt like closed . ringing ears decreased hearing , verified hearing test . ringing lessened lot past 2 years . changed primary doctors losartan hct amlodipine , side effects controls bp .                                                      \n",
       "3967  scratchy throat makes cough day & night . cough wet like water lungs . leg pain . knee hurts every . 2 mo . dont like .                                                                                                                                                                                                                                                                                                                                                                                                                         \n",
       "3977  since starting lotrel , lab work showing low white blood cell . wonder drug lotrel cause .                                                                                                                                                                                                                                                                                                                                                                                                                                                      \n",
       "\n",
       "     Satisfaction  \n",
       "3930  Positive     \n",
       "3939  Negative     \n",
       "3958  Negative     \n",
       "3967  Negative     \n",
       "3977  Positive     "
      ]
     },
     "execution_count": 21,
     "metadata": {},
     "output_type": "execute_result"
    }
   ],
   "source": [
    "nan_value = float(\"NaN\")\n",
    "#Convert NaN values to empty string\n",
    "\n",
    "rawData_HBP.replace(\"\", nan_value, inplace=True)\n",
    "\n",
    "rawData_HBP.dropna(subset = [\"Reviews\"], inplace=True)\n",
    "rawData_HBP.head()"
   ]
  },
  {
   "cell_type": "code",
   "execution_count": 22,
   "metadata": {},
   "outputs": [
    {
     "data": {
      "text/plain": [
       "13697"
      ]
     },
     "execution_count": 22,
     "metadata": {},
     "output_type": "execute_result"
    }
   ],
   "source": [
    "rawData_HBP['Reviews'].count() #there were 16484 reviews before but it seems many reviews had nothing in the review because of which above code removed almost 3k reviews"
   ]
  },
  {
   "cell_type": "code",
   "execution_count": 23,
   "metadata": {},
   "outputs": [
    {
     "data": {
      "text/html": [
       "<div>\n",
       "<style scoped>\n",
       "    .dataframe tbody tr th:only-of-type {\n",
       "        vertical-align: middle;\n",
       "    }\n",
       "\n",
       "    .dataframe tbody tr th {\n",
       "        vertical-align: top;\n",
       "    }\n",
       "\n",
       "    .dataframe thead th {\n",
       "        text-align: right;\n",
       "    }\n",
       "</style>\n",
       "<table border=\"1\" class=\"dataframe\">\n",
       "  <thead>\n",
       "    <tr style=\"text-align: right;\">\n",
       "      <th></th>\n",
       "      <th>ID</th>\n",
       "      <th>Reviews</th>\n",
       "      <th>Satisfaction</th>\n",
       "    </tr>\n",
       "  </thead>\n",
       "  <tbody>\n",
       "    <tr>\n",
       "      <td>3930</td>\n",
       "      <td>3931</td>\n",
       "      <td>initially   put lotrel 10 20 moderate hypertension   lost weight improved lifestyle   bp started low   dr  lowered dosage 5 10   successfully taken years   really sure lotrel generic   seems like depends pharmacy and or changes insurance     know related med   last year   developed extreme rash unbearable itching   dermatologist    ve seen 2 different ones   prescribed multitude creams   moisturizers   steroids   etc   possible diagnoses contact dermatitis   way     changes locations   inside forearms   stomach   back</td>\n",
       "      <td>Positive</td>\n",
       "    </tr>\n",
       "    <tr>\n",
       "      <td>3939</td>\n",
       "      <td>3940</td>\n",
       "      <td>medication caused blood pressure elevate taking couple months   numbers would 158 108   dehydrated urinating constantly   swelling fingers   ankles feet</td>\n",
       "      <td>Negative</td>\n",
       "    </tr>\n",
       "    <tr>\n",
       "      <td>3958</td>\n",
       "      <td>3959</td>\n",
       "      <td>medication 2 weeks   side effects similar flu plus swelling left side throat   ear pain   also constant drip fluid left side head left ear   stopped med 2 weeks   treated ear infection 1 month later   seen er chest pain   saw primary first 2 weeks felt flu imagination   left side head felt like closed   ringing ears decreased hearing   verified hearing test   ringing lessened lot past 2 years   changed primary doctors losartan hct amlodipine   side effects controls bp</td>\n",
       "      <td>Negative</td>\n",
       "    </tr>\n",
       "    <tr>\n",
       "      <td>3967</td>\n",
       "      <td>3968</td>\n",
       "      <td>scratchy throat makes cough day   night   cough wet like water lungs   leg pain   knee hurts every   2 mo   dont like</td>\n",
       "      <td>Negative</td>\n",
       "    </tr>\n",
       "    <tr>\n",
       "      <td>3977</td>\n",
       "      <td>3978</td>\n",
       "      <td>since starting lotrel   lab work showing low white blood cell   wonder drug lotrel cause</td>\n",
       "      <td>Positive</td>\n",
       "    </tr>\n",
       "  </tbody>\n",
       "</table>\n",
       "</div>"
      ],
      "text/plain": [
       "        ID  \\\n",
       "3930  3931   \n",
       "3939  3940   \n",
       "3958  3959   \n",
       "3967  3968   \n",
       "3977  3978   \n",
       "\n",
       "                                                                                                                                                                                                                                                                                                                                                                                                                                                                                                                                          Reviews  \\\n",
       "3930  initially   put lotrel 10 20 moderate hypertension   lost weight improved lifestyle   bp started low   dr  lowered dosage 5 10   successfully taken years   really sure lotrel generic   seems like depends pharmacy and or changes insurance     know related med   last year   developed extreme rash unbearable itching   dermatologist    ve seen 2 different ones   prescribed multitude creams   moisturizers   steroids   etc   possible diagnoses contact dermatitis   way     changes locations   inside forearms   stomach   back   \n",
       "3939  medication caused blood pressure elevate taking couple months   numbers would 158 108   dehydrated urinating constantly   swelling fingers   ankles feet                                                                                                                                                                                                                                                                                                                                                                                      \n",
       "3958  medication 2 weeks   side effects similar flu plus swelling left side throat   ear pain   also constant drip fluid left side head left ear   stopped med 2 weeks   treated ear infection 1 month later   seen er chest pain   saw primary first 2 weeks felt flu imagination   left side head felt like closed   ringing ears decreased hearing   verified hearing test   ringing lessened lot past 2 years   changed primary doctors losartan hct amlodipine   side effects controls bp                                                      \n",
       "3967  scratchy throat makes cough day   night   cough wet like water lungs   leg pain   knee hurts every   2 mo   dont like                                                                                                                                                                                                                                                                                                                                                                                                                         \n",
       "3977  since starting lotrel   lab work showing low white blood cell   wonder drug lotrel cause                                                                                                                                                                                                                                                                                                                                                                                                                                                      \n",
       "\n",
       "     Satisfaction  \n",
       "3930  Positive     \n",
       "3939  Negative     \n",
       "3958  Negative     \n",
       "3967  Negative     \n",
       "3977  Positive     "
      ]
     },
     "execution_count": 23,
     "metadata": {},
     "output_type": "execute_result"
    }
   ],
   "source": [
    "#removing symbols, links, URLs and punctuations\n",
    "cleanData = rawData_HBP.dropna(subset=['Reviews'])\n",
    "\n",
    "\n",
    "cleanData['Reviews'] = cleanData['Reviews'].replace('[^a-zA-Z0-9 ]+', ' ', regex=True) #removes sp char\n",
    "cleanData['Reviews'] = cleanData['Reviews'].replace('(\\\\b[A-Za-z] \\\\b|\\\\b [A-Za-z]\\\\b)', ' ', regex=True) #removes single char\n",
    "\n",
    "cleanData['Reviews'] = cleanData.Reviews.str.strip()\n",
    "cleanData.head()"
   ]
  },
  {
   "cell_type": "code",
   "execution_count": 24,
   "metadata": {},
   "outputs": [
    {
     "data": {
      "text/plain": [
       "Negative    7135\n",
       "Positive    6562\n",
       "Name: Satisfaction, dtype: int64"
      ]
     },
     "execution_count": 24,
     "metadata": {},
     "output_type": "execute_result"
    }
   ],
   "source": [
    "cleanData['Satisfaction'].value_counts()"
   ]
  },
  {
   "cell_type": "code",
   "execution_count": 25,
   "metadata": {},
   "outputs": [],
   "source": [
    "#cleanData.to_csv(\"Path\\\\clean_data.csv\", index= False)"
   ]
  },
  {
   "cell_type": "code",
   "execution_count": 26,
   "metadata": {},
   "outputs": [],
   "source": [
    "train,test = train_test_split(cleanData,test_size = .25 ,random_state = 112)\n"
   ]
  },
  {
   "cell_type": "code",
   "execution_count": 27,
   "metadata": {},
   "outputs": [
    {
     "data": {
      "text/plain": [
       "Negative    5366\n",
       "Positive    4906\n",
       "Name: Satisfaction, dtype: int64"
      ]
     },
     "execution_count": 27,
     "metadata": {},
     "output_type": "execute_result"
    }
   ],
   "source": [
    "train['Satisfaction'].value_counts()\n"
   ]
  },
  {
   "cell_type": "code",
   "execution_count": 28,
   "metadata": {},
   "outputs": [
    {
     "data": {
      "text/plain": [
       "Negative    1769\n",
       "Positive    1656\n",
       "Name: Satisfaction, dtype: int64"
      ]
     },
     "execution_count": 28,
     "metadata": {},
     "output_type": "execute_result"
    }
   ],
   "source": [
    "test['Satisfaction'].value_counts()\n"
   ]
  },
  {
   "cell_type": "code",
   "execution_count": 29,
   "metadata": {},
   "outputs": [
    {
     "data": {
      "text/plain": [
       "(10272, 11708)"
      ]
     },
     "execution_count": 29,
     "metadata": {},
     "output_type": "execute_result"
    }
   ],
   "source": [
    "from sklearn.feature_extraction.text import CountVectorizer\n",
    "count_vect = CountVectorizer()\n",
    "X_train_tf = count_vect.fit_transform(train.Reviews)\n",
    "X_train_tf.shape"
   ]
  },
  {
   "cell_type": "code",
   "execution_count": 30,
   "metadata": {},
   "outputs": [
    {
     "data": {
      "text/plain": [
       "(10272, 11708)"
      ]
     },
     "execution_count": 30,
     "metadata": {},
     "output_type": "execute_result"
    }
   ],
   "source": [
    "from sklearn.feature_extraction.text import TfidfTransformer\n",
    "tfidf_transformer = TfidfTransformer()\n",
    "X_train_tfidf = tfidf_transformer.fit_transform(X_train_tf)\n",
    "X_train_tfidf.shape"
   ]
  },
  {
   "cell_type": "code",
   "execution_count": 31,
   "metadata": {},
   "outputs": [],
   "source": [
    "#naive bayes\n",
    "from sklearn.naive_bayes import MultinomialNB\n",
    "clf= MultinomialNB().fit(X_train_tfidf, train.Satisfaction)"
   ]
  },
  {
   "cell_type": "code",
   "execution_count": 32,
   "metadata": {},
   "outputs": [],
   "source": [
    "X_test_tf = count_vect.transform(test.Reviews)\n",
    "X_test_tfidf = tfidf_transformer.transform(X_test_tf)\n",
    "predicted = clf.predict(X_test_tfidf)"
   ]
  },
  {
   "cell_type": "code",
   "execution_count": 33,
   "metadata": {},
   "outputs": [
    {
     "name": "stdout",
     "output_type": "stream",
     "text": [
      "Accuracy: 0.8335766423357664\n",
      "              precision    recall  f1-score   support\n",
      "\n",
      "    negative       0.81      0.89      0.85      1769\n",
      "    positive       0.87      0.77      0.82      1656\n",
      "\n",
      "    accuracy                           0.83      3425\n",
      "   macro avg       0.84      0.83      0.83      3425\n",
      "weighted avg       0.84      0.83      0.83      3425\n",
      "\n"
     ]
    },
    {
     "data": {
      "text/plain": [
       "array([[1580,  189],\n",
       "       [ 381, 1275]], dtype=int64)"
      ]
     },
     "execution_count": 33,
     "metadata": {},
     "output_type": "execute_result"
    }
   ],
   "source": [
    "from sklearn import metrics\n",
    "from sklearn.metrics import accuracy_score\n",
    "print(\"Accuracy:\", accuracy_score(test.Satisfaction, predicted))\n",
    "print(metrics.classification_report(test.Satisfaction, predicted, target_names = [\"negative\",\"positive\"]))\n",
    "metrics.confusion_matrix(test.Satisfaction, predicted)"
   ]
  },
  {
   "cell_type": "code",
   "execution_count": 34,
   "metadata": {},
   "outputs": [
    {
     "data": {
      "text/plain": [
       "SVC(gamma='auto', kernel='linear')"
      ]
     },
     "execution_count": 34,
     "metadata": {},
     "output_type": "execute_result"
    }
   ],
   "source": [
    "#SVM with linear kernel\n",
    "from sklearn import svm\n",
    "SVM = svm.SVC(C=1.0, kernel='linear', degree=3, gamma='auto')\n",
    "SVM.fit(X_train_tfidf, train.Satisfaction)"
   ]
  },
  {
   "cell_type": "code",
   "execution_count": 35,
   "metadata": {},
   "outputs": [],
   "source": [
    "predicted_SVM = SVM.predict(X_test_tfidf)"
   ]
  },
  {
   "cell_type": "code",
   "execution_count": 36,
   "metadata": {},
   "outputs": [
    {
     "name": "stdout",
     "output_type": "stream",
     "text": [
      "Accuracy: 0.8557664233576643\n",
      "              precision    recall  f1-score   support\n",
      "\n",
      "    negative       0.85      0.87      0.86      1769\n",
      "    positive       0.86      0.84      0.85      1656\n",
      "\n",
      "    accuracy                           0.86      3425\n",
      "   macro avg       0.86      0.86      0.86      3425\n",
      "weighted avg       0.86      0.86      0.86      3425\n",
      "\n"
     ]
    },
    {
     "data": {
      "text/plain": [
       "array([[1545,  224],\n",
       "       [ 270, 1386]], dtype=int64)"
      ]
     },
     "execution_count": 36,
     "metadata": {},
     "output_type": "execute_result"
    }
   ],
   "source": [
    "from sklearn import metrics\n",
    "from sklearn.metrics import accuracy_score\n",
    "print(\"Accuracy:\", accuracy_score(test.Satisfaction, predicted_SVM))\n",
    "print(metrics.classification_report(test.Satisfaction, predicted_SVM, target_names = [\"negative\",\"positive\"]))\n",
    "metrics.confusion_matrix(test.Satisfaction, predicted_SVM)"
   ]
  },
  {
   "cell_type": "code",
   "execution_count": 37,
   "metadata": {},
   "outputs": [
    {
     "data": {
      "text/plain": [
       "RandomForestClassifier()"
      ]
     },
     "execution_count": 37,
     "metadata": {},
     "output_type": "execute_result"
    }
   ],
   "source": [
    "#Random Forest\n",
    "from sklearn.ensemble import RandomForestClassifier\n",
    "from sklearn.datasets import make_classification\n",
    "\n",
    "\n",
    "RFclassifier = RandomForestClassifier()\n",
    "RFclassifier.fit(X_train_tfidf, train.Satisfaction)"
   ]
  },
  {
   "cell_type": "code",
   "execution_count": 38,
   "metadata": {},
   "outputs": [],
   "source": [
    "predicted_RF = RFclassifier.predict(X_test_tfidf)"
   ]
  },
  {
   "cell_type": "code",
   "execution_count": 39,
   "metadata": {},
   "outputs": [
    {
     "name": "stdout",
     "output_type": "stream",
     "text": [
      "Accuracy: 0.8633576642335766\n",
      "              precision    recall  f1-score   support\n",
      "\n",
      "    negative       0.85      0.89      0.87      1769\n",
      "    positive       0.87      0.84      0.86      1656\n",
      "\n",
      "    accuracy                           0.86      3425\n",
      "   macro avg       0.86      0.86      0.86      3425\n",
      "weighted avg       0.86      0.86      0.86      3425\n",
      "\n"
     ]
    },
    {
     "data": {
      "text/plain": [
       "array([[1570,  199],\n",
       "       [ 269, 1387]], dtype=int64)"
      ]
     },
     "execution_count": 39,
     "metadata": {},
     "output_type": "execute_result"
    }
   ],
   "source": [
    "from sklearn import metrics\n",
    "from sklearn.metrics import accuracy_score\n",
    "print(\"Accuracy:\", accuracy_score(test.Satisfaction, predicted_RF))\n",
    "print(metrics.classification_report(test.Satisfaction, predicted_RF, target_names = [\"negative\",\"positive\"]))\n",
    "metrics.confusion_matrix(test.Satisfaction, predicted_RF)"
   ]
  },
  {
   "cell_type": "code",
   "execution_count": 40,
   "metadata": {},
   "outputs": [],
   "source": [
    "# adaboost\n",
    "\n",
    "# base estimator\n",
    "tree = DecisionTreeClassifier(max_depth=13)\n",
    "\n",
    "# adaboost with the tree as base estimator\n",
    "adaboost_model_1 = AdaBoostClassifier(\n",
    "    base_estimator=tree,\n",
    "    n_estimators=100,\n",
    "    learning_rate=1,\n",
    "    random_state=42,\n",
    "    algorithm=\"SAMME\")"
   ]
  },
  {
   "cell_type": "code",
   "execution_count": 41,
   "metadata": {},
   "outputs": [],
   "source": [
    "adaboost_model_1.fit(X_train_tfidf, train.Satisfaction)\n",
    "adaboost_predictions = adaboost_model_1.predict(X_test_tfidf) "
   ]
  },
  {
   "cell_type": "code",
   "execution_count": 42,
   "metadata": {},
   "outputs": [
    {
     "name": "stdout",
     "output_type": "stream",
     "text": [
      "Accuracy: 0.8613138686131386\n",
      "              precision    recall  f1-score   support\n",
      "\n",
      "    negative       0.86      0.88      0.87      1769\n",
      "    positive       0.87      0.84      0.85      1656\n",
      "\n",
      "    accuracy                           0.86      3425\n",
      "   macro avg       0.86      0.86      0.86      3425\n",
      "weighted avg       0.86      0.86      0.86      3425\n",
      "\n"
     ]
    },
    {
     "data": {
      "text/plain": [
       "array([[1555,  214],\n",
       "       [ 261, 1395]], dtype=int64)"
      ]
     },
     "execution_count": 42,
     "metadata": {},
     "output_type": "execute_result"
    }
   ],
   "source": [
    "from sklearn import metrics\n",
    "from sklearn.metrics import accuracy_score\n",
    "print(\"Accuracy:\", accuracy_score(test.Satisfaction, adaboost_predictions))\n",
    "print(metrics.classification_report(test.Satisfaction, adaboost_predictions, target_names = [\"negative\",\"positive\"]))\n",
    "metrics.confusion_matrix(test.Satisfaction, adaboost_predictions)"
   ]
  },
  {
   "cell_type": "code",
   "execution_count": 43,
   "metadata": {},
   "outputs": [],
   "source": [
    "#Both Random Forest and ada boost seems to perform the same but I will go ahead with the RF model for the deployment in production"
   ]
  },
  {
   "cell_type": "code",
   "execution_count": null,
   "metadata": {},
   "outputs": [],
   "source": []
  }
 ],
 "metadata": {
  "kernelspec": {
   "display_name": "Python 3",
   "language": "python",
   "name": "python3"
  },
  "language_info": {
   "codemirror_mode": {
    "name": "ipython",
    "version": 3
   },
   "file_extension": ".py",
   "mimetype": "text/x-python",
   "name": "python",
   "nbconvert_exporter": "python",
   "pygments_lexer": "ipython3",
   "version": "3.7.4"
  }
 },
 "nbformat": 4,
 "nbformat_minor": 2
}
