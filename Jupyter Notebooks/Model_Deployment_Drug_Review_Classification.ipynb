{
 "cells": [
  {
   "cell_type": "code",
   "execution_count": 1,
   "metadata": {},
   "outputs": [],
   "source": [
    "import pandas as pd \n",
    "import numpy as np \n",
    "import string\n",
    "import re\n",
    "import nltk\n",
    "import joblib\n",
    "import gzip\n",
    "\n",
    "import random\n",
    "from sklearn.model_selection import train_test_split\n",
    "from sklearn.feature_extraction.text import CountVectorizer\n",
    "from sklearn.feature_extraction.text import TfidfVectorizer\n",
    "\n",
    "from sklearn.tree import DecisionTreeClassifier\n",
    "from sklearn.model_selection import cross_val_score, cross_val_predict\n",
    "from sklearn import metrics\n"
   ]
  },
  {
   "cell_type": "code",
   "execution_count": 2,
   "metadata": {},
   "outputs": [],
   "source": [
    "import os\n",
    "import pandas as pd \n",
    "import numpy as np \n",
    "from sklearn.feature_extraction.text import CountVectorizer\n",
    "from sklearn.feature_extraction.text import TfidfTransformer\n",
    "import pickle\n",
    "\n",
    "\n",
    "os.chdir(r\"\") \n",
    "\n",
    "df = pd.read_csv('clean_data.csv')\n",
    "\n",
    "pd.set_option('display.max_colwidth', -1)"
   ]
  },
  {
   "cell_type": "code",
   "execution_count": 3,
   "metadata": {},
   "outputs": [
    {
     "data": {
      "text/html": [
       "<div>\n",
       "<style scoped>\n",
       "    .dataframe tbody tr th:only-of-type {\n",
       "        vertical-align: middle;\n",
       "    }\n",
       "\n",
       "    .dataframe tbody tr th {\n",
       "        vertical-align: top;\n",
       "    }\n",
       "\n",
       "    .dataframe thead th {\n",
       "        text-align: right;\n",
       "    }\n",
       "</style>\n",
       "<table border=\"1\" class=\"dataframe\">\n",
       "  <thead>\n",
       "    <tr style=\"text-align: right;\">\n",
       "      <th></th>\n",
       "      <th>ID</th>\n",
       "      <th>Reviews</th>\n",
       "      <th>Satisfaction</th>\n",
       "    </tr>\n",
       "  </thead>\n",
       "  <tbody>\n",
       "    <tr>\n",
       "      <td>0</td>\n",
       "      <td>3931</td>\n",
       "      <td>initially   put lotrel 10 20 moderate hypertension   lost weight improved lifestyle   bp started low   dr  lowered dosage 5 10   successfully taken years   really sure lotrel generic   seems like depends pharmacy and or changes insurance     know related med   last year   developed extreme rash unbearable itching   dermatologist    ve seen 2 different ones   prescribed multitude creams   moisturizers   steroids   etc   possible diagnoses contact dermatitis   way     changes locations   inside forearms   stomach   back</td>\n",
       "      <td>Positive</td>\n",
       "    </tr>\n",
       "    <tr>\n",
       "      <td>1</td>\n",
       "      <td>3940</td>\n",
       "      <td>medication caused blood pressure elevate taking couple months   numbers would 158 108   dehydrated urinating constantly   swelling fingers   ankles feet</td>\n",
       "      <td>Negative</td>\n",
       "    </tr>\n",
       "    <tr>\n",
       "      <td>2</td>\n",
       "      <td>3959</td>\n",
       "      <td>medication 2 weeks   side effects similar flu plus swelling left side throat   ear pain   also constant drip fluid left side head left ear   stopped med 2 weeks   treated ear infection 1 month later   seen er chest pain   saw primary first 2 weeks felt flu imagination   left side head felt like closed   ringing ears decreased hearing   verified hearing test   ringing lessened lot past 2 years   changed primary doctors losartan hct amlodipine   side effects controls bp</td>\n",
       "      <td>Negative</td>\n",
       "    </tr>\n",
       "    <tr>\n",
       "      <td>3</td>\n",
       "      <td>3968</td>\n",
       "      <td>scratchy throat makes cough day   night   cough wet like water lungs   leg pain   knee hurts every   2 mo   dont like</td>\n",
       "      <td>Negative</td>\n",
       "    </tr>\n",
       "    <tr>\n",
       "      <td>4</td>\n",
       "      <td>3978</td>\n",
       "      <td>since starting lotrel   lab work showing low white blood cell   wonder drug lotrel cause</td>\n",
       "      <td>Positive</td>\n",
       "    </tr>\n",
       "  </tbody>\n",
       "</table>\n",
       "</div>"
      ],
      "text/plain": [
       "     ID  \\\n",
       "0  3931   \n",
       "1  3940   \n",
       "2  3959   \n",
       "3  3968   \n",
       "4  3978   \n",
       "\n",
       "                                                                                                                                                                                                                                                                                                                                                                                                                                                                                                                                       Reviews  \\\n",
       "0  initially   put lotrel 10 20 moderate hypertension   lost weight improved lifestyle   bp started low   dr  lowered dosage 5 10   successfully taken years   really sure lotrel generic   seems like depends pharmacy and or changes insurance     know related med   last year   developed extreme rash unbearable itching   dermatologist    ve seen 2 different ones   prescribed multitude creams   moisturizers   steroids   etc   possible diagnoses contact dermatitis   way     changes locations   inside forearms   stomach   back   \n",
       "1  medication caused blood pressure elevate taking couple months   numbers would 158 108   dehydrated urinating constantly   swelling fingers   ankles feet                                                                                                                                                                                                                                                                                                                                                                                      \n",
       "2  medication 2 weeks   side effects similar flu plus swelling left side throat   ear pain   also constant drip fluid left side head left ear   stopped med 2 weeks   treated ear infection 1 month later   seen er chest pain   saw primary first 2 weeks felt flu imagination   left side head felt like closed   ringing ears decreased hearing   verified hearing test   ringing lessened lot past 2 years   changed primary doctors losartan hct amlodipine   side effects controls bp                                                      \n",
       "3  scratchy throat makes cough day   night   cough wet like water lungs   leg pain   knee hurts every   2 mo   dont like                                                                                                                                                                                                                                                                                                                                                                                                                         \n",
       "4  since starting lotrel   lab work showing low white blood cell   wonder drug lotrel cause                                                                                                                                                                                                                                                                                                                                                                                                                                                      \n",
       "\n",
       "  Satisfaction  \n",
       "0  Positive     \n",
       "1  Negative     \n",
       "2  Negative     \n",
       "3  Negative     \n",
       "4  Positive     "
      ]
     },
     "execution_count": 3,
     "metadata": {},
     "output_type": "execute_result"
    }
   ],
   "source": [
    "df.head()"
   ]
  },
  {
   "cell_type": "code",
   "execution_count": 4,
   "metadata": {},
   "outputs": [
    {
     "data": {
      "text/html": [
       "<div>\n",
       "<style scoped>\n",
       "    .dataframe tbody tr th:only-of-type {\n",
       "        vertical-align: middle;\n",
       "    }\n",
       "\n",
       "    .dataframe tbody tr th {\n",
       "        vertical-align: top;\n",
       "    }\n",
       "\n",
       "    .dataframe thead th {\n",
       "        text-align: right;\n",
       "    }\n",
       "</style>\n",
       "<table border=\"1\" class=\"dataframe\">\n",
       "  <thead>\n",
       "    <tr style=\"text-align: right;\">\n",
       "      <th></th>\n",
       "      <th>ID</th>\n",
       "      <th>Reviews</th>\n",
       "      <th>Satisfaction</th>\n",
       "      <th>label</th>\n",
       "    </tr>\n",
       "  </thead>\n",
       "  <tbody>\n",
       "    <tr>\n",
       "      <td>0</td>\n",
       "      <td>3931</td>\n",
       "      <td>initially   put lotrel 10 20 moderate hypertension   lost weight improved lifestyle   bp started low   dr  lowered dosage 5 10   successfully taken years   really sure lotrel generic   seems like depends pharmacy and or changes insurance     know related med   last year   developed extreme rash unbearable itching   dermatologist    ve seen 2 different ones   prescribed multitude creams   moisturizers   steroids   etc   possible diagnoses contact dermatitis   way     changes locations   inside forearms   stomach   back</td>\n",
       "      <td>Positive</td>\n",
       "      <td>1</td>\n",
       "    </tr>\n",
       "    <tr>\n",
       "      <td>1</td>\n",
       "      <td>3940</td>\n",
       "      <td>medication caused blood pressure elevate taking couple months   numbers would 158 108   dehydrated urinating constantly   swelling fingers   ankles feet</td>\n",
       "      <td>Negative</td>\n",
       "      <td>0</td>\n",
       "    </tr>\n",
       "    <tr>\n",
       "      <td>2</td>\n",
       "      <td>3959</td>\n",
       "      <td>medication 2 weeks   side effects similar flu plus swelling left side throat   ear pain   also constant drip fluid left side head left ear   stopped med 2 weeks   treated ear infection 1 month later   seen er chest pain   saw primary first 2 weeks felt flu imagination   left side head felt like closed   ringing ears decreased hearing   verified hearing test   ringing lessened lot past 2 years   changed primary doctors losartan hct amlodipine   side effects controls bp</td>\n",
       "      <td>Negative</td>\n",
       "      <td>0</td>\n",
       "    </tr>\n",
       "    <tr>\n",
       "      <td>3</td>\n",
       "      <td>3968</td>\n",
       "      <td>scratchy throat makes cough day   night   cough wet like water lungs   leg pain   knee hurts every   2 mo   dont like</td>\n",
       "      <td>Negative</td>\n",
       "      <td>0</td>\n",
       "    </tr>\n",
       "    <tr>\n",
       "      <td>4</td>\n",
       "      <td>3978</td>\n",
       "      <td>since starting lotrel   lab work showing low white blood cell   wonder drug lotrel cause</td>\n",
       "      <td>Positive</td>\n",
       "      <td>1</td>\n",
       "    </tr>\n",
       "  </tbody>\n",
       "</table>\n",
       "</div>"
      ],
      "text/plain": [
       "     ID  \\\n",
       "0  3931   \n",
       "1  3940   \n",
       "2  3959   \n",
       "3  3968   \n",
       "4  3978   \n",
       "\n",
       "                                                                                                                                                                                                                                                                                                                                                                                                                                                                                                                                       Reviews  \\\n",
       "0  initially   put lotrel 10 20 moderate hypertension   lost weight improved lifestyle   bp started low   dr  lowered dosage 5 10   successfully taken years   really sure lotrel generic   seems like depends pharmacy and or changes insurance     know related med   last year   developed extreme rash unbearable itching   dermatologist    ve seen 2 different ones   prescribed multitude creams   moisturizers   steroids   etc   possible diagnoses contact dermatitis   way     changes locations   inside forearms   stomach   back   \n",
       "1  medication caused blood pressure elevate taking couple months   numbers would 158 108   dehydrated urinating constantly   swelling fingers   ankles feet                                                                                                                                                                                                                                                                                                                                                                                      \n",
       "2  medication 2 weeks   side effects similar flu plus swelling left side throat   ear pain   also constant drip fluid left side head left ear   stopped med 2 weeks   treated ear infection 1 month later   seen er chest pain   saw primary first 2 weeks felt flu imagination   left side head felt like closed   ringing ears decreased hearing   verified hearing test   ringing lessened lot past 2 years   changed primary doctors losartan hct amlodipine   side effects controls bp                                                      \n",
       "3  scratchy throat makes cough day   night   cough wet like water lungs   leg pain   knee hurts every   2 mo   dont like                                                                                                                                                                                                                                                                                                                                                                                                                         \n",
       "4  since starting lotrel   lab work showing low white blood cell   wonder drug lotrel cause                                                                                                                                                                                                                                                                                                                                                                                                                                                      \n",
       "\n",
       "  Satisfaction  label  \n",
       "0  Positive     1      \n",
       "1  Negative     0      \n",
       "2  Negative     0      \n",
       "3  Negative     0      \n",
       "4  Positive     1      "
      ]
     },
     "execution_count": 4,
     "metadata": {},
     "output_type": "execute_result"
    }
   ],
   "source": [
    "df['label']=df['Satisfaction'].map({'Positive': 1, 'Negative': 0})\n",
    "X = df['Reviews'].values.astype('U')\n",
    "y = df['label']\n",
    "\n",
    "df.head()\n"
   ]
  },
  {
   "cell_type": "code",
   "execution_count": 5,
   "metadata": {},
   "outputs": [],
   "source": [
    "cv = CountVectorizer()\n",
    "tfidf = TfidfTransformer()\n",
    "X_cv = cv.fit_transform(X)\n",
    "X_cv_tfidf = tfidf.fit_transform(X_cv)"
   ]
  },
  {
   "cell_type": "code",
   "execution_count": 6,
   "metadata": {},
   "outputs": [],
   "source": [
    "pickle.dump(cv,open('cv_transform.pkl','wb'))\n",
    "pickle.dump(tfidf,open('tfidf_transform.pkl','wb'))\n"
   ]
  },
  {
   "cell_type": "code",
   "execution_count": 7,
   "metadata": {},
   "outputs": [],
   "source": [
    "from sklearn.model_selection import train_test_split\n",
    "X_train, X_test, y_train, y_test = train_test_split(X_cv_tfidf,y, test_size=0.25, random_state=112)"
   ]
  },
  {
   "cell_type": "code",
   "execution_count": 8,
   "metadata": {},
   "outputs": [
    {
     "data": {
      "text/plain": [
       "0.8601459854014598"
      ]
     },
     "execution_count": 8,
     "metadata": {},
     "output_type": "execute_result"
    }
   ],
   "source": [
    "#Random Forest\n",
    "from sklearn.ensemble import RandomForestClassifier\n",
    "from sklearn.datasets import make_classification\n",
    "\n",
    "\n",
    "RFclassifier = RandomForestClassifier()\n",
    "RFclassifier.fit(X_train, y_train)\n",
    "RFclassifier.score(X_test,y_test)"
   ]
  },
  {
   "cell_type": "code",
   "execution_count": 9,
   "metadata": {},
   "outputs": [],
   "source": [
    "#filename = 'nlp_model.pkl'\n",
    "#pickle.dump(RFclassifier, open(filename, 'wb'), protocol=pickle.HIGHEST_PROTOCOL)"
   ]
  },
  {
   "cell_type": "code",
   "execution_count": 10,
   "metadata": {},
   "outputs": [],
   "source": [
    "#joblib.dump(RFclassifier, \"nlp_model_compressed.pkl\", compress=9)"
   ]
  },
  {
   "cell_type": "code",
   "execution_count": 11,
   "metadata": {},
   "outputs": [],
   "source": [
    "pickle.dump(RFclassifier, gzip.open(\"nlp_model_compressed.pkl\", 'wb'), protocol=pickle.HIGHEST_PROTOCOL)\n"
   ]
  },
  {
   "cell_type": "code",
   "execution_count": null,
   "metadata": {},
   "outputs": [],
   "source": []
  }
 ],
 "metadata": {
  "kernelspec": {
   "display_name": "Python 3",
   "language": "python",
   "name": "python3"
  },
  "language_info": {
   "codemirror_mode": {
    "name": "ipython",
    "version": 3
   },
   "file_extension": ".py",
   "mimetype": "text/x-python",
   "name": "python",
   "nbconvert_exporter": "python",
   "pygments_lexer": "ipython3",
   "version": "3.7.4"
  }
 },
 "nbformat": 4,
 "nbformat_minor": 2
}
